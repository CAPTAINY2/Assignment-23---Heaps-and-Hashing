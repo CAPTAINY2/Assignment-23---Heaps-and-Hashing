{
  "nbformat": 4,
  "nbformat_minor": 0,
  "metadata": {
    "colab": {
      "provenance": [],
      "authorship_tag": "ABX9TyPQA6plFrkI+8l940Zofni+",
      "include_colab_link": true
    },
    "kernelspec": {
      "name": "python3",
      "display_name": "Python 3"
    },
    "language_info": {
      "name": "python"
    }
  },
  "cells": [
    {
      "cell_type": "markdown",
      "metadata": {
        "id": "view-in-github",
        "colab_type": "text"
      },
      "source": [
        "<a href=\"https://colab.research.google.com/github/CAPTAINY2/Assignment-23---Heaps-and-Hashing/blob/main/Assignment_Questions_23.ipynb\" target=\"_parent\"><img src=\"https://colab.research.google.com/assets/colab-badge.svg\" alt=\"Open In Colab\"/></a>"
      ]
    },
    {
      "cell_type": "markdown",
      "source": [
        "### QUESTION-1"
      ],
      "metadata": {
        "id": "fFHzE4CEPdGG"
      }
    },
    {
      "cell_type": "code",
      "execution_count": 3,
      "metadata": {
        "colab": {
          "base_uri": "https://localhost:8080/"
        },
        "id": "9JszaUMPF7UQ",
        "outputId": "aba4a442-04e2-4651-9b05-45131547b167"
      },
      "outputs": [
        {
          "output_type": "stream",
          "name": "stdout",
          "text": [
            "Output 1 :  2\n",
            "Output 2 :  3\n"
          ]
        }
      ],
      "source": [
        "def depth(preorder):\n",
        "    d = 0\n",
        "    for i in preorder:\n",
        "        if i == 'n':\n",
        "            d += 1\n",
        "    return d\n",
        "\n",
        "preorder1 = 'nlnll'\n",
        "preorder2 = 'nlnnlll'\n",
        "\n",
        "print(\"Output 1 : \", depth(preorder1))\n",
        "print(\"Output 2 : \", depth(preorder2))"
      ]
    },
    {
      "cell_type": "markdown",
      "source": [
        "### QUESTION-2"
      ],
      "metadata": {
        "id": "NqxPbfahPkep"
      }
    },
    {
      "cell_type": "code",
      "source": [
        "\n",
        "class Node:\n",
        "    def __init__(self, data):\n",
        "        self.data = data\n",
        "        self.left = None\n",
        "        self.right = None\n",
        "\n",
        "def left_view(root):\n",
        "    global max_level\n",
        "    max_level = 0\n",
        "\n",
        "    def left_helper(node, level):\n",
        "        global max_level\n",
        "        if node is None:\n",
        "            return\n",
        "\n",
        "        if level > max_level:\n",
        "            print(node.data, end=' ')\n",
        "            max_level = level\n",
        "\n",
        "        left_helper(node.left, level + 1)\n",
        "        left_helper(node.right, level + 1)\n",
        "\n",
        "    left_helper(root, 1)\n",
        "\n",
        "root1 = Node(4)\n",
        "root1.left = Node(5)\n",
        "root1.right = Node(2)\n",
        "root1.right.left = Node(3)\n",
        "root1.right.right = Node(1)\n",
        "root1.right.left.left = Node(6)\n",
        "root1.right.left.right = Node(7)\n",
        "\n",
        "print(\"Output 1: \")\n",
        "left_view(root1)\n",
        "\n",
        "root2 = Node(1)\n",
        "root2.left = Node(2)\n",
        "root2.right = Node(3)\n",
        "root2.left.right = Node(4)\n",
        "root2.left.right.right = Node(5)\n",
        "root2.left.right.right.right = Node(6)\n",
        "\n",
        "print(\"Output 2: \")\n",
        "left_view(root2)\n"
      ],
      "metadata": {
        "colab": {
          "base_uri": "https://localhost:8080/"
        },
        "id": "MjLAempaHpdT",
        "outputId": "a09b78cd-3a1a-4ee1-b3f3-0a764c09c01b"
      },
      "execution_count": 17,
      "outputs": [
        {
          "output_type": "stream",
          "name": "stdout",
          "text": [
            "Output 1: \n",
            "4 5 3 6 Output 2: \n",
            "1 2 4 5 6 "
          ]
        }
      ]
    },
    {
      "cell_type": "markdown",
      "source": [
        "### QUESTION-3"
      ],
      "metadata": {
        "id": "VDtZzaAWPnrn"
      }
    },
    {
      "cell_type": "code",
      "source": [
        "class Node:\n",
        "    def __init__(self, data):\n",
        "        self.data = data\n",
        "        self.left = None\n",
        "        self.right = None\n",
        "\n",
        "def right_view(root):\n",
        "    global max_level\n",
        "    max_level = 0\n",
        "\n",
        "    def right_view_helper(node, level):\n",
        "        global max_level\n",
        "        if node is None:\n",
        "            return\n",
        "\n",
        "        if level > max_level:\n",
        "            print(node.data, end=' ')\n",
        "            max_level = level\n",
        "\n",
        "        right_view_helper(node.right, level + 1)\n",
        "        right_view_helper(node.left, level + 1)\n",
        "\n",
        "    right_view_helper(root, 1)\n",
        "\n",
        "root1 = Node(1)\n",
        "root1.left = Node(2)\n",
        "root1.right = Node(3)\n",
        "root1.left.left = Node(4)\n",
        "root1.left.right = Node(5)\n",
        "root1.right.left = Node(6)\n",
        "root1.right.right = Node(7)\n",
        "root1.right.right.right = Node(8)\n",
        "\n",
        "print(\"Output 1: \")\n",
        "right_view(root1)\n",
        "\n",
        "\n",
        "root2 = Node(1)\n",
        "root2.left = Node(8)\n",
        "root2.left.left = Node(7)\n",
        "\n",
        "print(\"Output 2: \")\n",
        "right_view(root2)"
      ],
      "metadata": {
        "colab": {
          "base_uri": "https://localhost:8080/"
        },
        "id": "Lh4HhMrgKWya",
        "outputId": "1faeb12d-0490-4462-8b96-c593cb95ef10"
      },
      "execution_count": 18,
      "outputs": [
        {
          "output_type": "stream",
          "name": "stdout",
          "text": [
            "Output 1: \n",
            "1 3 7 8 Output 2: \n",
            "1 8 7 "
          ]
        }
      ]
    },
    {
      "cell_type": "markdown",
      "source": [
        "### QUESTION-4"
      ],
      "metadata": {
        "id": "Wc18vsgEP1WA"
      }
    },
    {
      "cell_type": "code",
      "source": [
        "from collections import deque\n",
        "\n",
        "class Node:\n",
        "    def __init__(self, data):\n",
        "        self.data = data\n",
        "        self.left = None\n",
        "        self.right = None\n",
        "\n",
        "def bottom(root):\n",
        "    if root is None:\n",
        "        return\n",
        "\n",
        "    horizontal_distance = {}\n",
        "    queue = deque()\n",
        "    queue.append((root, 0))\n",
        "\n",
        "    while queue:\n",
        "        node, distance = queue.popleft()\n",
        "        horizontal_distance[distance] = node.data\n",
        "        if node.left:\n",
        "            queue.append((node.left, distance - 1))\n",
        "\n",
        "        if node.right:\n",
        "            queue.append((node.right, distance + 1))\n",
        "\n",
        "    sorted_hd = sorted(horizontal_distance.items(), key=lambda x: x[0])\n",
        "    for _, value in sorted_hd:\n",
        "        print(value, end=' ')\n",
        "\n",
        "root1 = Node(20)\n",
        "root1.left = Node(8)\n",
        "root1.right = Node(22)\n",
        "root1.left.left = Node(5)\n",
        "root1.left.right = Node(3)\n",
        "root1.right.right = Node(25)\n",
        "root1.left.right.left = Node(10)\n",
        "root1.left.right.right = Node(14)\n",
        "\n",
        "print(\"Output 1: \")\n",
        "bottom(root1)\n",
        "\n",
        "\n",
        "root2 = Node(20)\n",
        "root2.left = Node(8)\n",
        "root2.right = Node(22)\n",
        "root2.left.left = Node(5)\n",
        "root2.left.right = Node(3)\n",
        "root2.right.left = Node(4)\n",
        "root2.right.right = Node(25)\n",
        "root2.left.right.left = Node(10)\n",
        "root2.left.right.right = Node(14)\n",
        "\n",
        "print(\"Output 2: \")\n",
        "bottom(root2)\n"
      ],
      "metadata": {
        "colab": {
          "base_uri": "https://localhost:8080/"
        },
        "id": "TpFxvA1uL4S0",
        "outputId": "3017ed8b-3b1f-462a-d583-4fccbc9b7b48"
      },
      "execution_count": 16,
      "outputs": [
        {
          "output_type": "stream",
          "name": "stdout",
          "text": [
            "Output 1: \n",
            "5 10 3 14 25 Output 2: \n",
            "5 10 4 14 25 "
          ]
        }
      ]
    },
    {
      "cell_type": "code",
      "source": [],
      "metadata": {
        "id": "kptEOXVVN5TN"
      },
      "execution_count": null,
      "outputs": []
    }
  ]
}